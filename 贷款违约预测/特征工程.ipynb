{
 "cells": [
  {
   "cell_type": "code",
   "execution_count": 2,
   "id": "beac6fa8-8405-430e-9e9e-67612f5d135c",
   "metadata": {},
   "outputs": [],
   "source": [
    "import pandas as pd\n",
    "import numpy as np\n",
    "import matplotlib.pyplot as plt\n",
    "import seaborn as sns\n",
    "import datetime\n",
    "from tqdm import tqdm\n",
    "from sklearn.preprocessing import LabelEncoder\n",
    "from sklearn.feature_selection import SelectKBest\n",
    "from sklearn.feature_selection import chi2\n",
    "from sklearn.preprocessing import MinMaxScaler\n",
    "import xgboost as xgb\n",
    "import lightgbm as lgb\n",
    "from catboost import CatBoostRegressor\n",
    "import warnings\n",
    "from sklearn.model_selection import StratifiedKFold, KFold\n",
    "from sklearn.metrics import accuracy_score, f1_score, roc_auc_score, log_loss\n",
    "warnings.filterwarnings('ignore')"
   ]
  },
  {
   "cell_type": "markdown",
   "id": "38471195-b6ca-4b0c-a312-a18c0cf0d46f",
   "metadata": {},
   "source": [
    "#### 1.1 加载数据"
   ]
  },
  {
   "cell_type": "code",
   "execution_count": 3,
   "id": "574e43ed-1947-423f-9a85-72ba792e6641",
   "metadata": {},
   "outputs": [],
   "source": [
    "data_train = pd.read_csv('../../data/贷款违约预测/input/train.csv')\n",
    "data_test_a = pd.read_csv('../../data/贷款违约预测/input/testA.csv')"
   ]
  },
  {
   "cell_type": "markdown",
   "id": "14ea2f49-5266-4397-be40-f6b67976486f",
   "metadata": {},
   "source": [
    "#### 1.2 特征预处理"
   ]
  },
  {
   "cell_type": "markdown",
   "id": "63090c80-22a2-4bd9-a33f-b3838ade8aa8",
   "metadata": {},
   "source": [
    "这里介绍了数据缺失值的填充，时间格式特征的转化处理，某些对象类别特征的处理。"
   ]
  },
  {
   "cell_type": "markdown",
   "id": "5ddc0573-42c5-48fa-be57-04ce590a9a12",
   "metadata": {},
   "source": [
    "我们查找出数据中的对象特征和数值特征"
   ]
  },
  {
   "cell_type": "code",
   "execution_count": 4,
   "id": "f69a6254-bfa7-442b-8ade-d67a6dd63239",
   "metadata": {},
   "outputs": [],
   "source": [
    "# 数值型特征\n",
    "numerical_fea = list(data_train.select_dtypes(exclude=['object']).columns)\n",
    "# 类别型特征\n",
    "category_fea = list(filter(lambda x: x not in numerical_fea,list(data_train.columns)))\n",
    "label = 'isDefault'\n",
    "numerical_fea.remove(label)"
   ]
  },
  {
   "cell_type": "markdown",
   "id": "9fc3b742-4598-407d-9b65-41874e9f71ea",
   "metadata": {},
   "source": [
    "<font color='red'>注意</font>：在比赛中不妨尝试多种填充然后比较结果选择结果最优的一种"
   ]
  },
  {
   "cell_type": "markdown",
   "id": "d735ca5e-f361-47d6-bc51-f63f1670b4bf",
   "metadata": {},
   "source": [
    "##### 1.2.1 缺失值填充"
   ]
  },
  {
   "cell_type": "markdown",
   "id": "4119ffd1-4f2f-4466-badd-1fd667548787",
   "metadata": {},
   "source": [
    "* 把所有缺失值替换为指定的值0\n",
    "data_train = data_train.fillna(0)\n",
    "* 纵向填充：根据前面的值填充\n",
    "data_train = data_train.fillna(axis=0,method='ffill')\n",
    "* 纵向填充：根据后面的值填充\n",
    "data_train = data_train.fillna(axis=0,method='bfill')"
   ]
  },
  {
   "cell_type": "code",
   "execution_count": 5,
   "id": "fa98f65c-35d2-48b9-80bb-78f9929206ef",
   "metadata": {},
   "outputs": [
    {
     "data": {
      "text/plain": [
       "id                        0\n",
       "loanAmnt                  0\n",
       "term                      0\n",
       "interestRate              0\n",
       "installment               0\n",
       "grade                     0\n",
       "subGrade                  0\n",
       "employmentTitle           1\n",
       "employmentLength      46799\n",
       "homeOwnership             0\n",
       "annualIncome              0\n",
       "verificationStatus        0\n",
       "issueDate                 0\n",
       "isDefault                 0\n",
       "purpose                   0\n",
       "postCode                  1\n",
       "regionCode                0\n",
       "dti                     239\n",
       "delinquency_2years        0\n",
       "ficoRangeLow              0\n",
       "ficoRangeHigh             0\n",
       "openAcc                   0\n",
       "pubRec                    0\n",
       "pubRecBankruptcies      405\n",
       "revolBal                  0\n",
       "revolUtil               531\n",
       "totalAcc                  0\n",
       "initialListStatus         0\n",
       "applicationType           0\n",
       "earliesCreditLine         0\n",
       "title                     1\n",
       "policyCode                0\n",
       "n0                    40270\n",
       "n1                    40270\n",
       "n2                    40270\n",
       "n3                    40270\n",
       "n4                    33239\n",
       "n5                    40270\n",
       "n6                    40270\n",
       "n7                    40270\n",
       "n8                    40271\n",
       "n9                    40270\n",
       "n10                   33239\n",
       "n11                   69752\n",
       "n12                   40270\n",
       "n13                   40270\n",
       "n14                   40270\n",
       "dtype: int64"
      ]
     },
     "execution_count": 5,
     "metadata": {},
     "output_type": "execute_result"
    }
   ],
   "source": [
    "#查看缺失值情况\n",
    "data_train.isnull().sum()"
   ]
  },
  {
   "cell_type": "code",
   "execution_count": 6,
   "id": "c9e0a9fd-db13-4466-83b7-e9ff89a441e3",
   "metadata": {},
   "outputs": [],
   "source": [
    "#按照平均数填充数值型特征\n",
    "data_train[numerical_fea] = data_train[numerical_fea].fillna(data_train[numerical_fea].median())\n",
    "data_test_a[numerical_fea] = data_test_a[numerical_fea].fillna(data_train[numerical_fea].median())\n",
    "#按照众数填充类别型特征\n",
    "data_train[category_fea] = data_train[category_fea].fillna(data_train[category_fea].mode())\n",
    "data_test_a[category_fea] = data_test_a[category_fea].fillna(data_train[category_fea].mode())"
   ]
  },
  {
   "cell_type": "code",
   "execution_count": 10,
   "id": "ef47c799-d63a-43e1-b0bc-b5d622e40e48",
   "metadata": {},
   "outputs": [
    {
     "data": {
      "text/plain": [
       "['grade', 'subGrade', 'employmentLength', 'issueDate', 'earliesCreditLine']"
      ]
     },
     "execution_count": 10,
     "metadata": {},
     "output_type": "execute_result"
    }
   ],
   "source": [
    "#查看类别特征\n",
    "category_fea"
   ]
  },
  {
   "cell_type": "markdown",
   "id": "ec293992-fd62-495f-acce-d2e7a0fea84e",
   "metadata": {},
   "source": [
    "* category_fea：对象型类别特征需要进行预处理，其中['issueDate']为时间格式特征。"
   ]
  },
  {
   "cell_type": "markdown",
   "id": "9cfb13fb-7cb7-4c31-bc8a-8eacbc453178",
   "metadata": {},
   "source": [
    "##### 1.2.2 时间格式处理"
   ]
  },
  {
   "cell_type": "code",
   "execution_count": 7,
   "id": "da0e9922-62bd-48f8-ab03-543578b65834",
   "metadata": {},
   "outputs": [],
   "source": [
    "#转化成时间格式\n",
    "for data in [data_train, data_test_a]:\n",
    "    data['issueDate'] = pd.to_datetime(data['issueDate'],format='%Y-%m-%d')\n",
    "    startdate = datetime.datetime.strptime('2007-06-01', '%Y-%m-%d')\n",
    "    #构造时间特征\n",
    "    data['issueDateDT'] = data['issueDate'].apply(lambda x: x-startdate).dt.days"
   ]
  },
  {
   "cell_type": "code",
   "execution_count": 11,
   "id": "5eb0d4ef-c8e8-4cb3-a3e5-5db54c1cf653",
   "metadata": {},
   "outputs": [
    {
     "data": {
      "text/plain": [
       "1 year        52489\n",
       "10+ years    262753\n",
       "2 years       72358\n",
       "3 years       64152\n",
       "4 years       47985\n",
       "5 years       50102\n",
       "6 years       37254\n",
       "7 years       35407\n",
       "8 years       36192\n",
       "9 years       30272\n",
       "< 1 year      64237\n",
       "NaN           46799\n",
       "Name: employmentLength, dtype: int64"
      ]
     },
     "execution_count": 11,
     "metadata": {},
     "output_type": "execute_result"
    }
   ],
   "source": [
    "data_train['employmentLength'].value_counts(dropna=False).sort_index()"
   ]
  },
  {
   "cell_type": "markdown",
   "id": "97be776f-fa8d-4d22-bd56-2eba793b22a8",
   "metadata": {},
   "source": [
    "1.2.3 对象类型特征转换到数值"
   ]
  },
  {
   "cell_type": "code",
   "execution_count": 12,
   "id": "00347e7e-5482-402e-8f82-e2d32a4ef5fb",
   "metadata": {},
   "outputs": [],
   "source": [
    "def employmentLength_to_int(s):\n",
    "    if pd.isnull(s):\n",
    "        return s\n",
    "    else:\n",
    "        return np.int8(s.split()[0])\n",
    "for data in [data_train, data_test_a]:\n",
    "    data['employmentLength'].replace(to_replace='10+ years', value='10 years', inplace=True)\n",
    "    data['employmentLength'].replace('< 1 year', '0 years', inplace=True)\n",
    "    data['employmentLength'] = data['employmentLength'].apply(employmentLength_to_int)"
   ]
  },
  {
   "cell_type": "code",
   "execution_count": 16,
   "id": "dbf680f1-0a70-4a5f-82ba-c1afd03368a3",
   "metadata": {},
   "outputs": [
    {
     "data": {
      "text/plain": [
       "0          2.0\n",
       "1          5.0\n",
       "2          8.0\n",
       "3         10.0\n",
       "4          NaN\n",
       "          ... \n",
       "799995     7.0\n",
       "799996    10.0\n",
       "799997    10.0\n",
       "799998    10.0\n",
       "799999     5.0\n",
       "Name: employmentLength, Length: 800000, dtype: float64"
      ]
     },
     "execution_count": 16,
     "metadata": {},
     "output_type": "execute_result"
    }
   ],
   "source": []
  },
  {
   "cell_type": "code",
   "execution_count": null,
   "id": "6365062e-bcdd-4e89-8344-ff8cd3f0b347",
   "metadata": {},
   "outputs": [],
   "source": []
  }
 ],
 "metadata": {
  "kernelspec": {
   "display_name": "Python 3",
   "language": "python",
   "name": "python3"
  },
  "language_info": {
   "codemirror_mode": {
    "name": "ipython",
    "version": 3
   },
   "file_extension": ".py",
   "mimetype": "text/x-python",
   "name": "python",
   "nbconvert_exporter": "python",
   "pygments_lexer": "ipython3",
   "version": "3.8.2"
  }
 },
 "nbformat": 4,
 "nbformat_minor": 5
}
